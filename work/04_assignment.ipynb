{
 "cells": [
  {
   "cell_type": "markdown",
   "id": "22cc7829",
   "metadata": {},
   "source": [
    "# Data Visualization"
   ]
  },
  {
   "cell_type": "markdown",
   "id": "7806dc95",
   "metadata": {},
   "source": [
    "Select a dataset we have used in class (or outside of class).\n",
    "\n",
    "Generate a plot that you feel visualizes the data is an interesting way. Your plot should have the following elements:\n",
    "\n",
    ">1) Title\n",
    ">2) Legend\n",
    ">3) Axes or other Labels\n",
    ">4) Color\n",
    ">5) 1 sentence description of what your plot shows\n",
    ">6) Brief description of why you chose to make the plot the way you did.\n",
    "\n",
    "You may use pandas, matplotlib, or seaborn.\n",
    "\n",
    "Upload a pdf of the plot to Canvas."
   ]
  },
  {
   "cell_type": "code",
   "execution_count": 1,
   "id": "e3576317",
   "metadata": {},
   "outputs": [],
   "source": [
    "import pandas as pd\n",
    "import matplotlib.pyplot as plt\n",
    "import numpy as np"
   ]
  },
  {
   "cell_type": "code",
   "execution_count": null,
   "id": "7575aaa6-944d-4c6c-a02c-a16e9d728b26",
   "metadata": {},
   "outputs": [],
   "source": [
    "df = pd.read_csv('oscars_10-14.csv',delimiter=',',engine='python')\n",
    "df.drop('Oscars Year', inplace=True, axis=1)\n",
    "df.drop('Film Year', inplace=True, axis=1)"
   ]
  },
  {
   "cell_type": "code",
   "execution_count": 4,
   "id": "94c3070c-1410-4f89-a58c-d29648d92be4",
   "metadata": {},
   "outputs": [],
   "source": [
    "def words(x):\n",
    "    l = 0\n",
    "    x = str(x)\n",
    "    l += len(x)\n",
    "    return l\n",
    "df['Characters']= df['Speech'].apply(lambda x: words(x))\n",
    "df['Charpersec']= df['Characters'].apply(lambda y: y/45)\n",
    "df['color']= df['Played Off'].apply(lambda z: 'g' if z == 1.0 else 'r')\n",
    "\n"
   ]
  },
  {
   "cell_type": "code",
   "execution_count": 30,
   "id": "aa21b212-8346-43b7-a1f8-a1ed1ab9961a",
   "metadata": {},
   "outputs": [],
   "source": [
    "N=139\n",
    "chars = df['Characters'].tolist()\n",
    "colors = df['color'].tolist()\n",
    "x = df.index.to_list()\n",
    "ind = np.arange(N)   \n",
    "width = 0.45"
   ]
  },
  {
   "cell_type": "code",
   "execution_count": 31,
   "id": "101e6731-9918-4823-8558-1448162cd511",
   "metadata": {},
   "outputs": [
    {
     "data": {
      "image/png": "[encoded data removed]",
      "text/plain": [
       "<Figure size 432x288 with 1 Axes>"
      ]
     },
     "metadata": {
      "needs_background": "light"
     },
     "output_type": "display_data"
    }
   ],
   "source": [
    "fig, ax = plt.subplots()\n",
    "p1 = ax.bar(ind, chars, width, label='Characters', color=colors)\n",
    "ax.set_ylabel('Character Count')\n",
    "ax.set_title('Character Count (Played off vs not played off)')\n",
    "ax.legend()\n",
    "plt.show()"
   ]
  },
  {
   "cell_type": "markdown",
   "id": "b71688a1-2c0c-4f67-972d-034a3efec511",
   "metadata": {},
   "source": [
    "This bar graph shows the character count for every individual who gave a speech at the Oscars from 2010-2014"
   ]
  },
  {
   "cell_type": "markdown",
   "id": "8bc2556e-209c-4d4e-ad9a-27cf49e9ebe8",
   "metadata": {},
   "source": [
    "I made the plot a bar graph because it is the best way to illistrate a quantatative variable and a quantative variable. This graph clearly shows the number of characters utilized in each speech, and also shows which speaches were played off. The ones that were played off are in green."
   ]
  },
  {
   "cell_type": "code",
   "execution_count": null,
   "id": "dea8f901-5d67-422c-abb8-c7e8e2053188",
   "metadata": {},
   "outputs": [],
   "source": []
  },
  {
   "cell_type": "code",
   "execution_count": null,
   "id": "f2ae447d-94c4-41b1-b84d-48d0bf03edf0",
   "metadata": {},
   "outputs": [],
   "source": []
  },
  {
   "cell_type": "code",
   "execution_count": null,
   "id": "4660f43a-9d49-4f2c-bcd1-20e65b9d9b51",
   "metadata": {},
   "outputs": [],
   "source": []
  }
 ],
 "metadata": {
  "jupytext": {
   "formats": "ipynb"
  },
  "kernelspec": {
   "display_name": "Python 3 (ipykernel)",
   "language": "python",
   "name": "python3"
  },
  "language_info": {
   "codemirror_mode": {
    "name": "ipython",
    "version": 3
   },
   "file_extension": ".py",
   "mimetype": "text/x-python",
   "name": "python",
   "nbconvert_exporter": "python",
   "pygments_lexer": "ipython3",
   "version": "3.9.12"
  }
 },
 "nbformat": 4,
 "nbformat_minor": 5
}
